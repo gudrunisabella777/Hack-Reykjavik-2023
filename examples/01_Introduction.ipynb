{
 "cells": [
  {
   "attachments": {},
   "cell_type": "markdown",
   "metadata": {},
   "source": [
    "# Introduction to Genki Signals"
   ]
  },
  {
   "attachments": {},
   "cell_type": "markdown",
   "metadata": {},
   "source": [
    "### Signal Sources and Samplers"
   ]
  },
  {
   "cell_type": "code",
   "execution_count": null,
   "metadata": {},
   "outputs": [],
   "source": [
    "import os\n",
    "\n",
    "# NOTE: this isn't required when the library has been installed from PyPI\n",
    "os.chdir('../')"
   ]
  },
  {
   "attachments": {},
   "cell_type": "markdown",
   "metadata": {},
   "source": [
    "The first building block of Genki Signals is the `SignalSource`\n",
    "\n",
    "SignalSource is a callable that returns the current value of that Signal. It can be a function or a class with a `__call__` method. One example is the `MouseSource` that gives the current position of the pointer:"
   ]
  },
  {
   "cell_type": "code",
<<<<<<< HEAD
   "execution_count": 19,
=======
   "execution_count": 1,
>>>>>>> 7b604e8bbfc841c8536e2e4540d80b39061ec4a3
   "metadata": {},
   "outputs": [],
   "source": [
    "from genki_signals.sources import MouseSource, KeyboardSource\n",
    "\n",
    "source = MouseSource()\n",
    "keyboard_source = KeyboardSource(['m','e'])"
   ]
  },
  {
   "attachments": {},
   "cell_type": "markdown",
   "metadata": {},
   "source": [
    "Obviously we want to gather multiple samples of this signal. For that we need a `Sampler`.\n",
    "\n",
    "A Sampler simply samples one or many SignalSources at a given _sample rate_:"
   ]
  },
  {
   "cell_type": "code",
<<<<<<< HEAD
   "execution_count": 20,
=======
   "execution_count": 2,
>>>>>>> 7b604e8bbfc841c8536e2e4540d80b39061ec4a3
   "metadata": {},
   "outputs": [],
   "source": [
    "from genki_signals.sources import Sampler\n",
    "\n",
    "# sources is a dictionary mapping names to signal esources\n",
    "sampler = Sampler(sources = {\"mouse\": source, \"keyboard\" : keyboard_source}, sample_rate=100)"
   ]
  },
  {
   "attachments": {},
   "cell_type": "markdown",
   "metadata": {},
   "source": [
    "Now the sampler samples the mouse position at a rate of 100 samples / second (hz) (This happens in a separate thread so the cell still returns and the main thread is unblocked.)\n",
    "\n",
    "Signal Sources and Samplers are the way to get raw data into Genki Signals, usually from some external source, like a web API or an external device. Sometimes these will be combined into a single class, e.g. a microphone that samples audio data at a specific sample rate which we have no control over, but more on that later."
   ]
  },
  {
   "attachments": {},
   "cell_type": "markdown",
   "metadata": {},
   "source": [
    "### Signal Functions and Systems"
   ]
  },
  {
   "attachments": {},
   "cell_type": "markdown",
   "metadata": {},
   "source": [
    "We might want to do some processing on the samples from our sampler. \n",
    "\n",
    "This is where SignalFunctions come in. SignalFunctions are functions that take in one or more signals and return another signal.\n",
    "\n",
    "There is a collection of SignalFunctions available in `genki_signals.functions` and they all have a similar structure, to create one you need to specify some _input names_ and also a _name_ for the output signal: "
   ]
  },
  {
   "cell_type": "code",
<<<<<<< HEAD
   "execution_count": 21,
=======
   "execution_count": 3,
>>>>>>> 7b604e8bbfc841c8536e2e4540d80b39061ec4a3
   "metadata": {},
   "outputs": [],
   "source": [
    "import genki_signals.functions as f\n",
    "\n",
    "# diff differentiates the \"mouse\" signals with regard to the \"timestamp\" and returns the signal \"mouse_vel\"\n",
    "# the \"mouse\" signal is the one we created earlier and \"timestamp\" is created automatically by the sampler\n",
    "\n",
    "diff = f.Differentiate(input_a=\"mouse\", input_b=\"timestamp\", name=\"mouse_vel\")"
   ]
  },
  {
   "attachments": {},
   "cell_type": "markdown",
   "metadata": {},
   "source": [
    "We need to introduce one more concept to connect all of this together: the System.\n",
    "\n",
    "System takes in a Sampler/SignalSource and a list of SignalFunctions"
   ]
  },
  {
   "cell_type": "code",
<<<<<<< HEAD
   "execution_count": 22,
=======
   "execution_count": 4,
>>>>>>> 7b604e8bbfc841c8536e2e4540d80b39061ec4a3
   "metadata": {},
   "outputs": [],
   "source": [
    "from genki_signals.system import System\n",
    "\n",
    "system = System(sampler, [diff])\n",
    "\n",
    "system.start()"
   ]
  },
  {
   "attachments": {},
   "cell_type": "markdown",
   "metadata": {},
   "source": [
    "The `functions` module contains a library of functions to do signal arithmetic, digital signal processing, e.g. filtering, geometric calculations (useful for IMU sensors), create basic waveforms, run real time inference with machine learningh models, and more. We will dive into these in depth later."
   ]
  },
  {
   "attachments": {},
   "cell_type": "markdown",
   "metadata": {},
   "source": [
    "### Visualization"
   ]
  },
  {
   "attachments": {},
   "cell_type": "markdown",
   "metadata": {},
   "source": [
    "This is the minimal setup we need. With a system, we can add signal functions to do all kinds of processing, and we can do data recording to start building a dataset. However, probably the most useful part of Genki Signals is the real-time visualization. For that we need a `Frontend`: "
   ]
  },
  {
   "cell_type": "code",
   "execution_count": 5,
   "metadata": {},
   "outputs": [],
   "source": [
    "from genki_signals.buffers import DataBuffer\n",
    "\n",
    "buffer = DataBuffer()\n",
    "\n",
    "system.register_data_feed(id(buffer), lambda d: buffer.extend(d))"
   ]
  },
  {
   "cell_type": "code",
   "execution_count": 6,
   "metadata": {},
   "outputs": [
    {
     "data": {
      "text/plain": [
       "DataBuffer(max_size=None, data=timestamp: (91,)\n",
       "mouse: (2, 91)\n",
       "keyboard_pressing_m: (91,)\n",
       "keyboard_pressing_e: (91,)\n",
       "mouse_vel: (2, 91))"
      ]
     },
     "execution_count": 6,
     "metadata": {},
     "output_type": "execute_result"
    }
   ],
   "source": [
    "buffer"
   ]
  },
  {
   "cell_type": "code",
<<<<<<< HEAD
   "execution_count": 34,
=======
   "execution_count": 25,
   "metadata": {},
   "outputs": [
    {
     "name": "stdout",
     "output_type": "stream",
     "text": [
      "Requirement already satisfied: genki_widgets in c:\\users\\lenovo\\anaconda3\\envs\\hakkathon\\lib\\site-packages (0.1.0.dev0)\n",
      "Requirement already satisfied: ipywidgets>=7.0.0 in c:\\users\\lenovo\\anaconda3\\envs\\hakkathon\\lib\\site-packages (from genki_widgets) (8.0.6)\n",
      "Requirement already satisfied: jupyterlab-widgets~=3.0.7 in c:\\users\\lenovo\\anaconda3\\envs\\hakkathon\\lib\\site-packages (from ipywidgets>=7.0.0->genki_widgets) (3.0.7)\n",
      "Requirement already satisfied: ipykernel>=4.5.1 in c:\\users\\lenovo\\anaconda3\\envs\\hakkathon\\lib\\site-packages (from ipywidgets>=7.0.0->genki_widgets) (6.23.1)\n",
      "Requirement already satisfied: ipython>=6.1.0 in c:\\users\\lenovo\\anaconda3\\envs\\hakkathon\\lib\\site-packages (from ipywidgets>=7.0.0->genki_widgets) (8.13.2)\n",
      "Requirement already satisfied: traitlets>=4.3.1 in c:\\users\\lenovo\\anaconda3\\envs\\hakkathon\\lib\\site-packages (from ipywidgets>=7.0.0->genki_widgets) (5.9.0)\n",
      "Requirement already satisfied: widgetsnbextension~=4.0.7 in c:\\users\\lenovo\\anaconda3\\envs\\hakkathon\\lib\\site-packages (from ipywidgets>=7.0.0->genki_widgets) (4.0.7)\n",
      "Requirement already satisfied: packaging in c:\\users\\lenovo\\anaconda3\\envs\\hakkathon\\lib\\site-packages (from ipykernel>=4.5.1->ipywidgets>=7.0.0->genki_widgets) (23.1)\n",
      "Requirement already satisfied: matplotlib-inline>=0.1 in c:\\users\\lenovo\\anaconda3\\envs\\hakkathon\\lib\\site-packages (from ipykernel>=4.5.1->ipywidgets>=7.0.0->genki_widgets) (0.1.6)\n",
      "Requirement already satisfied: psutil in c:\\users\\lenovo\\anaconda3\\envs\\hakkathon\\lib\\site-packages (from ipykernel>=4.5.1->ipywidgets>=7.0.0->genki_widgets) (5.9.5)\n",
      "Requirement already satisfied: jupyter-client>=6.1.12 in c:\\users\\lenovo\\anaconda3\\envs\\hakkathon\\lib\\site-packages (from ipykernel>=4.5.1->ipywidgets>=7.0.0->genki_widgets) (8.2.0)\n",
      "Requirement already satisfied: nest-asyncio in c:\\users\\lenovo\\anaconda3\\envs\\hakkathon\\lib\\site-packages (from ipykernel>=4.5.1->ipywidgets>=7.0.0->genki_widgets) (1.5.6)\n",
      "Requirement already satisfied: tornado>=6.1 in c:\\users\\lenovo\\anaconda3\\envs\\hakkathon\\lib\\site-packages (from ipykernel>=4.5.1->ipywidgets>=7.0.0->genki_widgets) (6.3.2)\n",
      "Requirement already satisfied: comm>=0.1.1 in c:\\users\\lenovo\\anaconda3\\envs\\hakkathon\\lib\\site-packages (from ipykernel>=4.5.1->ipywidgets>=7.0.0->genki_widgets) (0.1.3)\n",
      "Requirement already satisfied: debugpy>=1.6.5 in c:\\users\\lenovo\\anaconda3\\envs\\hakkathon\\lib\\site-packages (from ipykernel>=4.5.1->ipywidgets>=7.0.0->genki_widgets) (1.6.7)\n",
      "Requirement already satisfied: pyzmq>=20 in c:\\users\\lenovo\\anaconda3\\envs\\hakkathon\\lib\\site-packages (from ipykernel>=4.5.1->ipywidgets>=7.0.0->genki_widgets) (25.0.2)\n",
      "Requirement already satisfied: jupyter-core!=5.0.*,>=4.12 in c:\\users\\lenovo\\anaconda3\\envs\\hakkathon\\lib\\site-packages (from ipykernel>=4.5.1->ipywidgets>=7.0.0->genki_widgets) (5.3.0)\n",
      "Requirement already satisfied: stack-data in c:\\users\\lenovo\\anaconda3\\envs\\hakkathon\\lib\\site-packages (from ipython>=6.1.0->ipywidgets>=7.0.0->genki_widgets) (0.6.2)\n",
      "Requirement already satisfied: pickleshare in c:\\users\\lenovo\\anaconda3\\envs\\hakkathon\\lib\\site-packages (from ipython>=6.1.0->ipywidgets>=7.0.0->genki_widgets) (0.7.5)\n",
      "Requirement already satisfied: decorator in c:\\users\\lenovo\\anaconda3\\envs\\hakkathon\\lib\\site-packages (from ipython>=6.1.0->ipywidgets>=7.0.0->genki_widgets) (5.1.1)\n",
      "Requirement already satisfied: prompt-toolkit!=3.0.37,<3.1.0,>=3.0.30 in c:\\users\\lenovo\\anaconda3\\envs\\hakkathon\\lib\\site-packages (from ipython>=6.1.0->ipywidgets>=7.0.0->genki_widgets) (3.0.38)\n",
      "Requirement already satisfied: colorama in c:\\users\\lenovo\\anaconda3\\envs\\hakkathon\\lib\\site-packages (from ipython>=6.1.0->ipywidgets>=7.0.0->genki_widgets) (0.4.6)\n",
      "Requirement already satisfied: typing-extensions in c:\\users\\lenovo\\anaconda3\\envs\\hakkathon\\lib\\site-packages (from ipython>=6.1.0->ipywidgets>=7.0.0->genki_widgets) (4.5.0)\n",
      "Requirement already satisfied: jedi>=0.16 in c:\\users\\lenovo\\anaconda3\\envs\\hakkathon\\lib\\site-packages (from ipython>=6.1.0->ipywidgets>=7.0.0->genki_widgets) (0.18.2)\n",
      "Requirement already satisfied: backcall in c:\\users\\lenovo\\anaconda3\\envs\\hakkathon\\lib\\site-packages (from ipython>=6.1.0->ipywidgets>=7.0.0->genki_widgets) (0.2.0)\n",
      "Requirement already satisfied: pygments>=2.4.0 in c:\\users\\lenovo\\anaconda3\\envs\\hakkathon\\lib\\site-packages (from ipython>=6.1.0->ipywidgets>=7.0.0->genki_widgets) (2.15.1)\n",
      "Requirement already satisfied: parso<0.9.0,>=0.8.0 in c:\\users\\lenovo\\anaconda3\\envs\\hakkathon\\lib\\site-packages (from jedi>=0.16->ipython>=6.1.0->ipywidgets>=7.0.0->genki_widgets) (0.8.3)\n",
      "Requirement already satisfied: python-dateutil>=2.8.2 in c:\\users\\lenovo\\anaconda3\\envs\\hakkathon\\lib\\site-packages (from jupyter-client>=6.1.12->ipykernel>=4.5.1->ipywidgets>=7.0.0->genki_widgets) (2.8.2)\n",
      "Requirement already satisfied: importlib-metadata>=4.8.3 in c:\\users\\lenovo\\anaconda3\\envs\\hakkathon\\lib\\site-packages (from jupyter-client>=6.1.12->ipykernel>=4.5.1->ipywidgets>=7.0.0->genki_widgets) (6.6.0)\n",
      "Requirement already satisfied: pywin32>=300 in c:\\users\\lenovo\\anaconda3\\envs\\hakkathon\\lib\\site-packages (from jupyter-core!=5.0.*,>=4.12->ipykernel>=4.5.1->ipywidgets>=7.0.0->genki_widgets) (306)\n",
      "Requirement already satisfied: platformdirs>=2.5 in c:\\users\\lenovo\\anaconda3\\envs\\hakkathon\\lib\\site-packages (from jupyter-core!=5.0.*,>=4.12->ipykernel>=4.5.1->ipywidgets>=7.0.0->genki_widgets) (3.5.1)\n",
      "Requirement already satisfied: wcwidth in c:\\users\\lenovo\\anaconda3\\envs\\hakkathon\\lib\\site-packages (from prompt-toolkit!=3.0.37,<3.1.0,>=3.0.30->ipython>=6.1.0->ipywidgets>=7.0.0->genki_widgets) (0.2.6)\n",
      "Requirement already satisfied: executing>=1.2.0 in c:\\users\\lenovo\\anaconda3\\envs\\hakkathon\\lib\\site-packages (from stack-data->ipython>=6.1.0->ipywidgets>=7.0.0->genki_widgets) (1.2.0)\n",
      "Requirement already satisfied: asttokens>=2.1.0 in c:\\users\\lenovo\\anaconda3\\envs\\hakkathon\\lib\\site-packages (from stack-data->ipython>=6.1.0->ipywidgets>=7.0.0->genki_widgets) (2.2.1)\n",
      "Requirement already satisfied: pure-eval in c:\\users\\lenovo\\anaconda3\\envs\\hakkathon\\lib\\site-packages (from stack-data->ipython>=6.1.0->ipywidgets>=7.0.0->genki_widgets) (0.2.2)\n",
      "Requirement already satisfied: six in c:\\users\\lenovo\\anaconda3\\envs\\hakkathon\\lib\\site-packages (from asttokens>=2.1.0->stack-data->ipython>=6.1.0->ipywidgets>=7.0.0->genki_widgets) (1.16.0)\n",
      "Requirement already satisfied: zipp>=0.5 in c:\\users\\lenovo\\anaconda3\\envs\\hakkathon\\lib\\site-packages (from importlib-metadata>=4.8.3->jupyter-client>=6.1.12->ipykernel>=4.5.1->ipywidgets>=7.0.0->genki_widgets) (3.15.0)\n",
      "Note: you may need to restart the kernel to use updated packages.\n"
     ]
    }
   ],
   "source": [
    "%pip install genki_widgets"
   ]
  },
  {
   "cell_type": "code",
   "execution_count": 14,
>>>>>>> 7b604e8bbfc841c8536e2e4540d80b39061ec4a3
   "metadata": {},
   "outputs": [],
   "source": [
    "#from genki_signals.frontends import WidgetFrontend\n",
    "from genki_widgets import Trace\n",
    "\n",
    "trace = Trace(('mouse', 0), ('mouse', 1), x_axis_visible = False, y_axis_visible = False, y_axis_flipped = True, n_visible_points = 200)\n",
    "\n",
    "\n",
    "\n",
    "system.register_data_feed(id(trace), lambda d: trace.update(d.as_dict()))"
   ]
  },
  {
   "cell_type": "code",
<<<<<<< HEAD
   "execution_count": 35,
   "metadata": {
    "scrolled": true
   },
=======
   "execution_count": 15,
   "metadata": {},
>>>>>>> 7b604e8bbfc841c8536e2e4540d80b39061ec4a3
   "outputs": [
    {
     "data": {
      "application/vnd.jupyter.widget-view+json": {
<<<<<<< HEAD
       "model_id": "8c718de58ef546fcbfb2684dfb7de68f",
=======
       "model_id": "b93ae1bbafa6424894fda0b611e9f80c",
>>>>>>> 7b604e8bbfc841c8536e2e4540d80b39061ec4a3
       "version_major": 2,
       "version_minor": 0
      },
      "text/plain": [
<<<<<<< HEAD
       "Trace(data={'timestamp': [[1684596811.1754286, 1684596811.1914299, 1684596811.2065902]], 'mouse': [[565, 565, …"
      ]
     },
     "execution_count": 35,
=======
       "Trace(data={'timestamp': [[1684596868.8322074, 1684596868.847989, 1684596868.8634155, 1684596868.8787389]], 'm…"
      ]
     },
     "execution_count": 15,
>>>>>>> 7b604e8bbfc841c8536e2e4540d80b39061ec4a3
     "metadata": {},
     "output_type": "execute_result"
    }
   ],
   "source": [
    "trace"
   ]
  },
  {
   "cell_type": "code",
<<<<<<< HEAD
   "execution_count": 52,
=======
   "execution_count": 23,
>>>>>>> 7b604e8bbfc841c8536e2e4540d80b39061ec4a3
   "metadata": {},
   "outputs": [
    {
     "ename": "KeyboardInterrupt",
     "evalue": "",
     "output_type": "error",
     "traceback": [
      "\u001b[1;31m---------------------------------------------------------------------------\u001b[0m",
      "\u001b[1;31mKeyboardInterrupt\u001b[0m                         Traceback (most recent call last)",
      "Cell \u001b[1;32mIn[52], line 21\u001b[0m\n\u001b[0;32m     19\u001b[0m \u001b[38;5;66;03m# Take the screenshot using shot() method\u001b[39;00m\n\u001b[0;32m     20\u001b[0m \u001b[38;5;28;01mwith\u001b[39;00m mss\u001b[38;5;241m.\u001b[39mmss() \u001b[38;5;28;01mas\u001b[39;00m mss_obj:\n\u001b[1;32m---> 21\u001b[0m     \u001b[43mmss_obj\u001b[49m\u001b[38;5;241;43m.\u001b[39;49m\u001b[43mshot\u001b[49m\u001b[43m(\u001b[49m\u001b[43moutput\u001b[49m\u001b[38;5;241;43m=\u001b[39;49m\u001b[43mfile_name\u001b[49m\u001b[43m)\u001b[49m\n",
      "File \u001b[1;32m~\\anaconda3\\envs\\hakkathon\\lib\\site-packages\\mss\\base.py:193\u001b[0m, in \u001b[0;36mMSSBase.shot\u001b[1;34m(self, **kwargs)\u001b[0m\n\u001b[0;32m    187\u001b[0m \u001b[38;5;250m\u001b[39m\u001b[38;5;124;03m\"\"\"\u001b[39;00m\n\u001b[0;32m    188\u001b[0m \u001b[38;5;124;03mHelper to save the screen shot of the 1st monitor, by default.\u001b[39;00m\n\u001b[0;32m    189\u001b[0m \u001b[38;5;124;03mYou can pass the same arguments as for ``save``.\u001b[39;00m\n\u001b[0;32m    190\u001b[0m \u001b[38;5;124;03m\"\"\"\u001b[39;00m\n\u001b[0;32m    192\u001b[0m kwargs[\u001b[38;5;124m\"\u001b[39m\u001b[38;5;124mmon\u001b[39m\u001b[38;5;124m\"\u001b[39m] \u001b[38;5;241m=\u001b[39m kwargs\u001b[38;5;241m.\u001b[39mget(\u001b[38;5;124m\"\u001b[39m\u001b[38;5;124mmon\u001b[39m\u001b[38;5;124m\"\u001b[39m, \u001b[38;5;241m1\u001b[39m)\n\u001b[1;32m--> 193\u001b[0m \u001b[38;5;28;01mreturn\u001b[39;00m \u001b[38;5;28;43mnext\u001b[39;49m\u001b[43m(\u001b[49m\u001b[38;5;28;43mself\u001b[39;49m\u001b[38;5;241;43m.\u001b[39;49m\u001b[43msave\u001b[49m\u001b[43m(\u001b[49m\u001b[38;5;241;43m*\u001b[39;49m\u001b[38;5;241;43m*\u001b[39;49m\u001b[43mkwargs\u001b[49m\u001b[43m)\u001b[49m\u001b[43m)\u001b[49m\n",
      "File \u001b[1;32m~\\anaconda3\\envs\\hakkathon\\lib\\site-packages\\mss\\base.py:183\u001b[0m, in \u001b[0;36mMSSBase.save\u001b[1;34m(self, mon, output, callback)\u001b[0m\n\u001b[0;32m    181\u001b[0m     callback(output)\n\u001b[0;32m    182\u001b[0m sct \u001b[38;5;241m=\u001b[39m \u001b[38;5;28mself\u001b[39m\u001b[38;5;241m.\u001b[39mgrab(monitor)\n\u001b[1;32m--> 183\u001b[0m \u001b[43mto_png\u001b[49m\u001b[43m(\u001b[49m\u001b[43msct\u001b[49m\u001b[38;5;241;43m.\u001b[39;49m\u001b[43mrgb\u001b[49m\u001b[43m,\u001b[49m\u001b[43m \u001b[49m\u001b[43msct\u001b[49m\u001b[38;5;241;43m.\u001b[39;49m\u001b[43msize\u001b[49m\u001b[43m,\u001b[49m\u001b[43m \u001b[49m\u001b[43mlevel\u001b[49m\u001b[38;5;241;43m=\u001b[39;49m\u001b[38;5;28;43mself\u001b[39;49m\u001b[38;5;241;43m.\u001b[39;49m\u001b[43mcompression_level\u001b[49m\u001b[43m,\u001b[49m\u001b[43m \u001b[49m\u001b[43moutput\u001b[49m\u001b[38;5;241;43m=\u001b[39;49m\u001b[43moutput\u001b[49m\u001b[43m)\u001b[49m\n\u001b[0;32m    184\u001b[0m \u001b[38;5;28;01myield\u001b[39;00m output\n",
      "File \u001b[1;32m~\\anaconda3\\envs\\hakkathon\\lib\\site-packages\\mss\\tools.py:41\u001b[0m, in \u001b[0;36mto_png\u001b[1;34m(data, size, level, output)\u001b[0m\n\u001b[0;32m     38\u001b[0m ihdr[\u001b[38;5;241m0\u001b[39m] \u001b[38;5;241m=\u001b[39m pack(\u001b[38;5;124m\"\u001b[39m\u001b[38;5;124m>I\u001b[39m\u001b[38;5;124m\"\u001b[39m, \u001b[38;5;28mlen\u001b[39m(ihdr[\u001b[38;5;241m2\u001b[39m]))\n\u001b[0;32m     40\u001b[0m \u001b[38;5;66;03m# Data: size, marker, data, CRC32\u001b[39;00m\n\u001b[1;32m---> 41\u001b[0m idat \u001b[38;5;241m=\u001b[39m [\u001b[38;5;124mb\u001b[39m\u001b[38;5;124m\"\u001b[39m\u001b[38;5;124m\"\u001b[39m, \u001b[38;5;124mb\u001b[39m\u001b[38;5;124m\"\u001b[39m\u001b[38;5;124mIDAT\u001b[39m\u001b[38;5;124m\"\u001b[39m, \u001b[43mzlib\u001b[49m\u001b[38;5;241;43m.\u001b[39;49m\u001b[43mcompress\u001b[49m\u001b[43m(\u001b[49m\u001b[43mscanlines\u001b[49m\u001b[43m,\u001b[49m\u001b[43m \u001b[49m\u001b[43mlevel\u001b[49m\u001b[43m)\u001b[49m, \u001b[38;5;124mb\u001b[39m\u001b[38;5;124m\"\u001b[39m\u001b[38;5;124m\"\u001b[39m]\n\u001b[0;32m     42\u001b[0m idat[\u001b[38;5;241m3\u001b[39m] \u001b[38;5;241m=\u001b[39m pack(\u001b[38;5;124m\"\u001b[39m\u001b[38;5;124m>I\u001b[39m\u001b[38;5;124m\"\u001b[39m, crc32(\u001b[38;5;124mb\u001b[39m\u001b[38;5;124m\"\u001b[39m\u001b[38;5;124m\"\u001b[39m\u001b[38;5;241m.\u001b[39mjoin(idat[\u001b[38;5;241m1\u001b[39m:\u001b[38;5;241m3\u001b[39m])) \u001b[38;5;241m&\u001b[39m \u001b[38;5;241m0xFFFFFFFF\u001b[39m)\n\u001b[0;32m     43\u001b[0m idat[\u001b[38;5;241m0\u001b[39m] \u001b[38;5;241m=\u001b[39m pack(\u001b[38;5;124m\"\u001b[39m\u001b[38;5;124m>I\u001b[39m\u001b[38;5;124m\"\u001b[39m, \u001b[38;5;28mlen\u001b[39m(idat[\u001b[38;5;241m2\u001b[39m]))\n",
      "\u001b[1;31mKeyboardInterrupt\u001b[0m: "
     ]
    }
   ],
   "source": [
<<<<<<< HEAD
    "from time import sleep, time\n",
    "import mss, keyboard\n",
    "\n",
    "# Running the while loop for infinite time\n",
    "while True:\n",
    "    # generating a random number between 1 \n",
    "    # to 5 , which will represent the time\n",
    "    # delay\n",
    "    pause = 2\n",
    "  \n",
    "    # create a time delay using the sleep()\n",
    "    # method\n",
    "    sleep(pause)\n",
    "  \n",
    "    # Save the screenshot shot using current time \n",
    "    # as file name.\n",
    "    file_name = str(time())+\".png\"\n",
    "  \n",
    "    # Take the screenshot using shot() method\n",
    "    with mss.mss() as mss_obj:\n",
    "        mss_obj.shot(output=file_name)"
=======
    "system.start_recording('a4')"
>>>>>>> 7b604e8bbfc841c8536e2e4540d80b39061ec4a3
   ]
  },
  {
   "cell_type": "code",
<<<<<<< HEAD
   "execution_count": 36,
   "metadata": {},
   "outputs": [],
   "source": [
    "system.start_recording('m5')"
   ]
  },
  {
   "cell_type": "code",
   "execution_count": 37,
=======
   "execution_count": null,
   "metadata": {},
   "outputs": [],
   "source": []
  },
  {
   "cell_type": "code",
   "execution_count": 24,
>>>>>>> 7b604e8bbfc841c8536e2e4540d80b39061ec4a3
   "metadata": {},
   "outputs": [],
   "source": [
    "system.stop_recording()"
   ]
  },
  {
   "attachments": {},
   "cell_type": "markdown",
   "metadata": {},
   "source": [
    "A `WidgetFrontend` is a front end specifically designed for jupyter notebooks. In the above cell we create two `Line` widgets and combine them into a `dashboard` object that is then rendered in a notebook. A Genki Signals frontend can also be a separate web server or any sort of GUI to visualize and interact with the system. "
   ]
  },
  {
   "attachments": {},
   "cell_type": "markdown",
   "metadata": {},
   "source": [
    "# Recording data"
   ]
  },
  {
   "attachments": {},
   "cell_type": "markdown",
   "metadata": {},
   "source": [
    "Our `dashboard` object displays the data in real time. The last basic feature we will introduce is recording. To start recording data, we can simply call `system.start_recording()` and give it a filename:"
   ]
  },
  {
   "cell_type": "code",
   "execution_count": null,
   "metadata": {},
   "outputs": [],
   "source": [
    "system.start_recording('session_1')"
   ]
  },
  {
   "attachments": {},
   "cell_type": "markdown",
   "metadata": {},
   "source": [
    "The name `session_1` will be the name of a folder. We'll see its contents in a bit.\n",
    "\n",
    "We are now recording data, try moving the mouse around a bit and run the next cell to stop recording (and stop everything):"
   ]
  },
  {
   "cell_type": "code",
   "execution_count": null,
   "metadata": {},
   "outputs": [],
   "source": [
    "system.stop_recording()\n",
    "system.stop()"
   ]
  },
  {
   "attachments": {},
   "cell_type": "markdown",
   "metadata": {},
   "source": [
    "The system created the folder `session_1`, let's see what it contains:"
   ]
  },
  {
   "cell_type": "code",
   "execution_count": null,
   "metadata": {},
   "outputs": [],
   "source": [
    "!ls session_1/"
   ]
  },
  {
   "attachments": {},
   "cell_type": "markdown",
   "metadata": {},
   "source": [
    "`raw_data.pickle` contains the recorded data, whereas `metadata.json` contains various information about this recording session. Instead of reading these files directly we can load them in a `Session`:"
   ]
  },
  {
   "cell_type": "code",
   "execution_count": 67,
   "metadata": {},
   "outputs": [
    {
     "data": {
      "text/plain": [
       "DataBuffer(max_size=None, data=timestamp: (7143,)\n",
       "mouse: (2, 7143)\n",
       "keyboard_pressing_m: (7143,)\n",
       "keyboard_pressing_e: (7143,))"
      ]
     },
     "execution_count": 67,
     "metadata": {},
     "output_type": "execute_result"
    }
   ],
   "source": [
    "from genki_signals.session import Session\n",
    "\n",
    "filename = 'm5'\n",
    "session = Session.from_filename(filename)\n",
    "session.raw_data"
   ]
  },
  {
   "cell_type": "code",
   "execution_count": 66,
   "metadata": {},
   "outputs": [
    {
     "data": {
      "text/plain": [
       "<Figure size 640x480 with 0 Axes>"
      ]
     },
     "metadata": {},
     "output_type": "display_data"
    }
   ],
   "source": [
    "import matplotlib.pyplot as plt\n",
    "import time\n",
    "\n",
<<<<<<< HEAD
    "mouse_position_data = session.raw_data['mouse']\n",
    "for i in range(0,7143,100):\n",
    "    plt.axis('off')\n",
    "    plt.scatter(mouse_position_data[0, i:i+100], -mouse_position_data[1, i:i+100])\n",
    "    name = filename[0]+str(time.time())+\".png\"\n",
    "    plt.savefig(name, bbox_inches='tight')\n",
    "    plt.clf()"
=======
    "for i in range:(6486)\n",
    "plt.scatter(mouse_position_data[0, 250:500], -mouse_position_data[1, 250:500])"
>>>>>>> 7b604e8bbfc841c8536e2e4540d80b39061ec4a3
   ]
  },
  {
   "attachments": {},
   "cell_type": "markdown",
   "metadata": {},
   "source": [
    "So we have a dataset of mouse positions! \n",
    "\n",
    "Note that we don't actually store the differentiated signal `mouse_vel`, we only store the raw data which is treated as a source of truth. The `SignalFunction`s are serialized and stored in `metadata.json`. All `SignalFunction`s are deterministic so they can be recomputed at will. This means that the signal functions (and their parameters, if any) can be used as hyperparameters in ML training. For example, if you want to use a low-pass filter on some signal, the exact cutoff frequency of the filter can be treated as a hyperparameter.\n",
    "\n",
    "The `metadata.json` can also contain arbitrary information about the particular session. This can also be useful in a machine learning setting if you wish to, for example, make sure the data is split into train and test based on _individuals_, so that no individual who appears in the test set has any data in the training set. "
   ]
  },
  {
   "attachments": {},
   "cell_type": "markdown",
   "metadata": {},
   "source": [
    "To recap, we have introduced a lot of concepts:\n",
    "\n",
    "* A `SignalSource` is some way to get an external signal\n",
    "* A `Sampler` samples values from a `SignalSource` at a given rate\n",
    "* A `SignalFunction` is some function to process signals\n",
    "* A `SignalSystem` ties all of the above together and records data\n",
    "* A `Session` is some data that was recorded in a single recording session\n",
    "* A `Frontend` is a way to visualize what is going on in a system and to interact with it\n",
    "\n",
    "We have only scratched the surface of these components. This should be enough to get started but in the following notebooks we will cover each of these in more depth."
   ]
  }
 ],
 "metadata": {
  "kernelspec": {
   "display_name": "Python 3 (ipykernel)",
   "language": "python",
   "name": "python3"
  },
  "language_info": {
   "codemirror_mode": {
    "name": "ipython",
    "version": 3
   },
   "file_extension": ".py",
   "mimetype": "text/x-python",
   "name": "python",
   "nbconvert_exporter": "python",
   "pygments_lexer": "ipython3",
   "version": "3.9.16"
  },
  "vscode": {
   "interpreter": {
    "hash": "5d1ca8cbf69155084332556ae3352aa9e7bf4a96dd6bb5cc51f4289812d36157"
   }
  }
 },
 "nbformat": 4,
 "nbformat_minor": 2
}
