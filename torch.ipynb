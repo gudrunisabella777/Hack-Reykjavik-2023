{
 "cells": [
  {
   "cell_type": "code",
   "execution_count": 112,
   "metadata": {},
   "outputs": [],
   "source": [
    "import torch\n",
    "import torchvision\n",
    "import torchvision.transforms as transforms"
   ]
  },
  {
   "cell_type": "code",
   "execution_count": 113,
   "metadata": {},
   "outputs": [],
   "source": [
    "import string\n",
    "classes = tuple(x for x in \"_\" + string.ascii_uppercase)"
   ]
  },
  {
   "cell_type": "code",
   "execution_count": 114,
   "metadata": {},
   "outputs": [],
   "source": [
    "transform = transforms.Compose(\n",
    "    [transforms.ToTensor(),\n",
    "     transforms.Normalize((0.5,), (0.5,))])\n",
    "\n",
    "batch_size = 4\n",
    "\n",
    "trainset = torchvision.datasets.EMNIST(root='./data', train=True,\n",
    "                                        download=True, transform=transform, split=\"letters\")\n",
    "trainloader = torch.utils.data.DataLoader(trainset, batch_size=batch_size,\n",
    "                                          shuffle=True, num_workers=2)\n",
    "\n",
    "testset = torchvision.datasets.EMNIST(root='./data', train=False,\n",
    "                                       download=True, transform=transform, split=\"letters\")\n",
    "testloader = torch.utils.data.DataLoader(testset, batch_size=batch_size,\n",
    "                                         shuffle=False, num_workers=2)\n"
   ]
  },
  {
   "cell_type": "code",
   "execution_count": 115,
   "metadata": {},
   "outputs": [
    {
     "data": {
      "image/png": "[encoded data removed]",
      "text/plain": [
       "<Figure size 640x480 with 1 Axes>"
      ]
     },
     "metadata": {},
     "output_type": "display_data"
    },
    {
     "name": "stdout",
     "output_type": "stream",
     "text": [
      "X    , tensor([24, 11,  1, 16])\n"
     ]
    }
   ],
   "source": [
    "import matplotlib.pyplot as plt\n",
    "import numpy as np\n",
    "\n",
    "# functions to show an image\n",
    "\n",
    "\n",
    "def imshow(img):\n",
    "    img = img / 2 + 0.5     # unnormalize\n",
    "    npimg = img.numpy()\n",
    "    npimg = np.rot90(npimg,3)\n",
    "    npimg = np.fliplr(npimg)\n",
    "    plt.imshow(npimg, cmap='gray')\n",
    "    plt.show()\n",
    "\n",
    "\n",
    "# get some random training images\n",
    "dataiter = iter(trainloader)\n",
    "images, labels = next(dataiter)\n",
    "\n",
    "# show images\n",
    "imshow(images[0][0])\n",
    "# print labels\n",
    "print(f'{classes[labels[0]]:5s}, {labels}')"
   ]
  },
  {
   "cell_type": "code",
   "execution_count": 116,
   "metadata": {},
   "outputs": [
    {
     "name": "stdout",
     "output_type": "stream",
     "text": [
      "tensor([10, 24,  7,  3])\n"
     ]
    }
   ],
   "source": [
    "dataiter = iter(trainloader)\n",
    "images, labels = next(dataiter)\n",
    "print(labels)"
   ]
  },
  {
   "cell_type": "code",
   "execution_count": 117,
   "metadata": {},
   "outputs": [],
   "source": [
    "import torch.nn as nn\n",
    "import torch.nn.functional as F\n",
    "\n",
    "\n",
    "class Net(nn.Module):\n",
    "    def __init__(self):\n",
    "        super().__init__()\n",
    "        self.conv1 = nn.Conv2d(1, 6, 5)\n",
    "        self.pool = nn.MaxPool2d(2, 2)\n",
    "        self.conv2 = nn.Conv2d(6, 16, 5)\n",
    "        self.fc1 = nn.Linear(16 * 4 * 4, 120)\n",
    "        self.fc2 = nn.Linear(120, 84)\n",
    "        self.fc3 = nn.Linear(84, 27)\n",
    "\n",
    "    def forward(self, x):\n",
    "        x = self.pool(F.relu(self.conv1(x)))\n",
    "        x = self.pool(F.relu(self.conv2(x)))\n",
    "        x = torch.flatten(x, 1) # flatten all dimensions except batch\n",
    "        x = F.relu(self.fc1(x))\n",
    "        x = F.relu(self.fc2(x))\n",
    "        x = self.fc3(x)\n",
    "        return x\n",
    "\n",
    "\n",
    "net = Net()"
   ]
  },
  {
   "cell_type": "code",
   "execution_count": 118,
   "metadata": {},
   "outputs": [
    {
     "name": "stdout",
     "output_type": "stream",
     "text": [
      "----------------------------------------------------------------\n",
      "        Layer (type)               Output Shape         Param #\n",
      "================================================================\n",
      "            Conv2d-1            [-1, 6, 24, 24]             156\n",
      "         MaxPool2d-2            [-1, 6, 12, 12]               0\n",
      "            Conv2d-3             [-1, 16, 8, 8]           2,416\n",
      "         MaxPool2d-4             [-1, 16, 4, 4]               0\n",
      "            Linear-5                  [-1, 120]          30,840\n",
      "            Linear-6                   [-1, 84]          10,164\n",
      "            Linear-7                   [-1, 27]           2,295\n",
      "================================================================\n",
      "Total params: 45,871\n",
      "Trainable params: 45,871\n",
      "Non-trainable params: 0\n",
      "----------------------------------------------------------------\n",
      "Input size (MB): 0.00\n",
      "Forward/backward pass size (MB): 0.04\n",
      "Params size (MB): 0.17\n",
      "Estimated Total Size (MB): 0.22\n",
      "----------------------------------------------------------------\n"
     ]
    }
   ],
   "source": [
    "import torchsummary \n",
    "\n",
    "torchsummary.summary(net, (1, 28, 28))"
   ]
  },
  {
   "cell_type": "code",
   "execution_count": 119,
   "metadata": {},
   "outputs": [],
   "source": [
    "import torch.optim as optim\n",
    "\n",
    "criterion = nn.CrossEntropyLoss()\n",
    "optimizer = optim.Adam(net.parameters(), lr=0.001)"
   ]
  },
  {
   "cell_type": "code",
   "execution_count": 120,
   "metadata": {},
   "outputs": [
    {
     "name": "stdout",
     "output_type": "stream",
     "text": [
      "[1,  2000] loss: 1.277\n",
      "[1,  4000] loss: 0.617\n",
      "[1,  6000] loss: 0.515\n",
      "[1,  8000] loss: 0.454\n",
      "[1, 10000] loss: 0.415\n",
      "[1, 12000] loss: 0.383\n",
      "[1, 14000] loss: 0.376\n",
      "[1, 16000] loss: 0.341\n",
      "[1, 18000] loss: 0.349\n",
      "[1, 20000] loss: 0.324\n",
      "[1, 22000] loss: 0.354\n",
      "[1, 24000] loss: 0.322\n",
      "[1, 26000] loss: 0.311\n",
      "[1, 28000] loss: 0.305\n",
      "[1, 30000] loss: 0.295\n",
      "[2,  2000] loss: 0.276\n",
      "[2,  4000] loss: 0.269\n",
      "[2,  6000] loss: 0.277\n",
      "[2,  8000] loss: 0.273\n",
      "[2, 10000] loss: 0.292\n",
      "[2, 12000] loss: 0.279\n",
      "[2, 14000] loss: 0.268\n",
      "[2, 16000] loss: 0.271\n",
      "[2, 18000] loss: 0.277\n",
      "[2, 20000] loss: 0.278\n",
      "[2, 22000] loss: 0.287\n",
      "[2, 24000] loss: 0.253\n",
      "[2, 26000] loss: 0.263\n",
      "[2, 28000] loss: 0.260\n",
      "[2, 30000] loss: 0.265\n",
      "Finished Training\n"
     ]
    }
   ],
   "source": [
    "for epoch in range(2):  # loop over the dataset multiple times\n",
    "\n",
    "    running_loss = 0.0\n",
    "    for i, data in enumerate(trainloader, 0):\n",
    "        # get the inputs; data is a list of [inputs, labels]\n",
    "        inputs, labels = data\n",
    "\n",
    "        # zero the parameter gradients\n",
    "        optimizer.zero_grad()\n",
    "\n",
    "        # forward + backward + optimize\n",
    "        outputs = net(inputs)\n",
    "        loss = criterion(outputs, labels)\n",
    "        loss.backward()\n",
    "        optimizer.step()\n",
    "\n",
    "        # print statistics\n",
    "        running_loss += loss.item()\n",
    "        if i % 2000 == 1999:    # print every 2000 mini-batches\n",
    "            print(f'[{epoch + 1}, {i + 1:5d}] loss: {running_loss / 2000:.3f}')\n",
    "            running_loss = 0.0\n",
    "\n",
    "print('Finished Training')"
   ]
  },
  {
   "cell_type": "code",
   "execution_count": 121,
   "metadata": {},
   "outputs": [],
   "source": [
    "PATH = '../cifar_net.pth'\n",
    "torch.save(net.state_dict(), PATH)"
   ]
  },
  {
   "cell_type": "code",
   "execution_count": 122,
   "metadata": {},
   "outputs": [
    {
     "name": "stdout",
     "output_type": "stream",
     "text": [
      "GroundTruth:  A     A     A     A    \n"
     ]
    }
   ],
   "source": [
    "dataiter = iter(testloader)\n",
    "images, labels = next(dataiter)\n",
    "\n",
    "# print images\n",
    "#imshow(torchvision.utils.make_grid(images))\n",
    "print('GroundTruth: ', ' '.join(f'{classes[labels[j]]:5s}' for j in range(4)))"
   ]
  },
  {
   "cell_type": "code",
   "execution_count": 124,
   "metadata": {},
   "outputs": [
    {
     "data": {
      "text/plain": [
       "<All keys matched successfully>"
      ]
     },
     "execution_count": 124,
     "metadata": {},
     "output_type": "execute_result"
    }
   ],
   "source": [
    "net = Net()\n",
    "net.load_state_dict(torch.load(PATH))"
   ]
  },
  {
   "cell_type": "code",
   "execution_count": 125,
   "metadata": {},
   "outputs": [],
   "source": [
    "outputs = net(images)"
   ]
  },
  {
   "cell_type": "code",
   "execution_count": 126,
   "metadata": {},
   "outputs": [
    {
     "name": "stdout",
     "output_type": "stream",
     "text": [
      "Predicted:  U     A     A     A    \n"
     ]
    }
   ],
   "source": [
    "_, predicted = torch.max(outputs, 1)\n",
    "\n",
    "print('Predicted: ', ' '.join(f'{classes[predicted[j]]:5s}'\n",
    "                              for j in range(4)))"
   ]
  },
  {
   "cell_type": "code",
   "execution_count": 127,
   "metadata": {},
   "outputs": [
    {
     "name": "stdout",
     "output_type": "stream",
     "text": [
      "Accuracy of the network on the 10000 test images: 90 %\n"
     ]
    }
   ],
   "source": [
    "correct = 0\n",
    "total = 0\n",
    "# since we're not training, we don't need to calculate the gradients for our outputs\n",
    "with torch.no_grad():\n",
    "    for data in testloader:\n",
    "        images, labels = data\n",
    "        # calculate outputs by running images through the network\n",
    "        outputs = net(images)\n",
    "        # the class with the highest energy is what we choose as prediction\n",
    "        _, predicted = torch.max(outputs.data, 1)\n",
    "        total += labels.size(0)\n",
    "        correct += (predicted == labels).sum().item()\n",
    "\n",
    "print(f'Accuracy of the network on the 10000 test images: {100 * correct // total} %')"
   ]
  },
  {
   "cell_type": "code",
   "execution_count": 110,
   "metadata": {},
   "outputs": [
    {
     "name": "stdout",
     "output_type": "stream",
     "text": [
      "Accuracy for class: _     is 0.0 %\n",
      "Accuracy for class: A     is 89.8 %\n",
      "Accuracy for class: B     is 96.0 %\n",
      "Accuracy for class: C     is 97.2 %\n",
      "Accuracy for class: D     is 93.1 %\n",
      "Accuracy for class: E     is 91.8 %\n",
      "Accuracy for class: F     is 94.8 %\n",
      "Accuracy for class: G     is 73.0 %\n",
      "Accuracy for class: H     is 90.8 %\n",
      "Accuracy for class: I     is 46.2 %\n",
      "Accuracy for class: J     is 90.4 %\n",
      "Accuracy for class: K     is 94.6 %\n",
      "Accuracy for class: L     is 86.2 %\n",
      "Accuracy for class: M     is 98.8 %\n",
      "Accuracy for class: N     is 91.1 %\n",
      "Accuracy for class: O     is 96.9 %\n",
      "Accuracy for class: P     is 97.0 %\n",
      "Accuracy for class: Q     is 85.1 %\n",
      "Accuracy for class: R     is 93.0 %\n",
      "Accuracy for class: S     is 96.0 %\n",
      "Accuracy for class: T     is 94.1 %\n",
      "Accuracy for class: U     is 87.0 %\n",
      "Accuracy for class: V     is 90.1 %\n",
      "Accuracy for class: W     is 95.9 %\n",
      "Accuracy for class: X     is 94.5 %\n",
      "Accuracy for class: Y     is 96.2 %\n",
      "Accuracy for class: Z     is 96.8 %\n"
     ]
    }
   ],
   "source": [
    "# prepare to count predictions for each class\n",
    "correct_pred = {classname: 0 for classname in classes}\n",
    "total_pred = {classname: 0 for classname in classes}\n",
    "\n",
    "# again no gradients needed\n",
    "with torch.no_grad():\n",
    "    for data in testloader:\n",
    "        images, labels = data\n",
    "        outputs = net(images)\n",
    "        _, predictions = torch.max(outputs, 1)\n",
    "        # collect the correct predictions for each class\n",
    "        for label, prediction in zip(labels, predictions):\n",
    "            if label == prediction:\n",
    "                correct_pred[classes[label]] += 1\n",
    "            total_pred[classes[label]] += 1\n",
    "\n",
    "\n",
    "# print accuracy for each class\n",
    "for classname, correct_count in correct_pred.items():\n",
    "    accuracy = 100 * float(correct_count) / (total_pred[classname]+ 0.00000000000001)\n",
    "    print(f'Accuracy for class: {classname:5s} is {accuracy:.1f} %')"
   ]
  },
  {
   "cell_type": "code",
   "execution_count": 156,
   "metadata": {},
   "outputs": [
    {
     "name": "stdout",
     "output_type": "stream",
     "text": [
      "MAPPA\n",
      "GORMUR\n",
      "HELLU\n"
     ]
    }
   ],
   "source": [
    "from PIL import Image\n",
    "import torchvision.transforms.functional as TF\n",
    "\n",
    "L = ['bigM', 'bigA','bigP','bigP','bigA']\n",
    "M = ['bigG', 'bigO','bigR','bigM','bigU','bigR']\n",
    "N = ['bigH', 'bigE','bigL','bigL','bigU']\n",
    "\n",
    "def read_from_image(L):\n",
    "    word = \"\"\n",
    "    for i in range(len(L)):\n",
    "        image = Image.open(\"examples/demo/\"+str(L[i])+\".png\")\n",
    "        image = image.convert(\"1\")\n",
    "        x = TF.to_tensor(image).squeeze()\n",
    "        x = x.numpy()\n",
    "        #print(x.shape)\n",
    "        x = np.fliplr(x)\n",
    "        x = np.rot90(x)\n",
    "        x = torch.from_numpy(x.copy())\n",
    "        #imshow(x)\n",
    "        x = x.unsqueeze(0)\n",
    "        #print(x.shape)\n",
    "        output = net(x.unsqueeze(0))\n",
    "        output = torch.softmax(output, 1)\n",
    "        #print(output)\n",
    "        output = torch.argmax(output)\n",
    "        #print(f'{classes[output]:5s}') \n",
    "        word+=classes[output]\n",
    "    return word\n",
    "\n",
    "\n",
    "wordL = read_from_image(L)\n",
    "wordM = read_from_image(M)\n",
    "wordN = read_from_image(N)\n",
    "print(wordL)\n",
    "print(wordM)\n",
    "print(wordN)\n"
   ]
  },
  {
   "cell_type": "code",
   "execution_count": 157,
   "metadata": {},
   "outputs": [
    {
     "name": "stdout",
     "output_type": "stream",
     "text": [
      "Rétt\n",
      "Rétt\n",
      "Rétt\n"
     ]
    }
   ],
   "source": [
    "from islenska import Bin\n",
    "\n",
    "def er_þetta_orð(wordL):\n",
    "    b = Bin()\n",
    "    x = len(b.lookup(wordL)[1])\n",
    "    if(x==0): return \"Rangt, prófa aftur\"\n",
    "    else: return \"Rétt\"\n",
    "\n",
    "print(er_þetta_orð(wordL))\n",
    "print(er_þetta_orð(wordM))\n",
    "print(er_þetta_orð(wordN))"
   ]
  },
  {
   "cell_type": "code",
   "execution_count": null,
   "metadata": {},
   "outputs": [],
   "source": []
  }
 ],
 "metadata": {
  "kernelspec": {
   "display_name": "Python 3 (ipykernel)",
   "language": "python",
   "name": "python3"
  },
  "language_info": {
   "codemirror_mode": {
    "name": "ipython",
    "version": 3
   },
   "file_extension": ".py",
   "mimetype": "text/x-python",
   "name": "python",
   "nbconvert_exporter": "python",
   "pygments_lexer": "ipython3",
   "version": "3.9.16"
  }
 },
 "nbformat": 4,
 "nbformat_minor": 2
}
